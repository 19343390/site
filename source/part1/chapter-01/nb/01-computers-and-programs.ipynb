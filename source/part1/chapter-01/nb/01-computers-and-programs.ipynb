{
 "cells": [
  {
   "cell_type": "markdown",
   "metadata": {},
   "source": [
    "# Introduction\n",
    "\n",
    "We start this first chapter with a short introduction to computers and programs. If you have previous experience programming, or would prefer to jump ahead to the first section on Python programming. Otherwise, the goal here is to ensure you have a good foundation and understanding of essential general topics before introducing computer programming using the Python programming language.\n",
    "\n",
    "## Why learn to program?\n",
    "\n",
    "You might be wondering about why you should even bother learning to program at all. Most likely you are not a computer scientist after all, but neither are we. Yet all of the authors of this book have developed their basic computer programming skills to be able to write and use simple programs. Even very short computer programs can be very useful!\n",
    "\n",
    "So, why bother? Well, the fields of geoscience and geography are becoming increasingly quantitative.\n",
    "\n",
    "## What is a computer?\n",
    "\n",
    "## What is a program?\n",
    "\n",
    "## What is a programming language?\n"
   ]
  }
 ],
 "metadata": {
  "kernelspec": {
   "display_name": "Python 3",
   "language": "python",
   "name": "python3"
  },
  "language_info": {
   "codemirror_mode": {
    "name": "ipython",
    "version": 3
   },
   "file_extension": ".py",
   "mimetype": "text/x-python",
   "name": "python",
   "nbconvert_exporter": "python",
   "pygments_lexer": "ipython3",
   "version": "3.7.4"
  }
 },
 "nbformat": 4,
 "nbformat_minor": 4
}
