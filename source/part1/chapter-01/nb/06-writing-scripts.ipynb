{
 "cells": [
  {
   "cell_type": "markdown",
   "metadata": {},
   "source": [
    "## An introduction to script files\n",
    "\n",
    "Up to this point we have been keeping our Python code and Markdown comments in a single Jupyter notebook document.\n",
    "This is great, but there are some cases, like when you have long Python code blocks or a set of functions used in many notebooks, in which you may want to have Python code in a separate document to make sure your Jupyter notebook is easy to read (and use).\n",
    "An alternative to typing in all of the commands you would like to run is the list them in a Python *{term}`script`* file.\n",
    "A Python script file is simply a file containing a list of the commands you would like to run, normally with one command per line, and formatted in the same way as if you were to type them in.\n",
    "Python script files traditionally use the `.py` file extension in their names.\n",
    "\n",
    "### The general concept of a .py script file\n",
    "\n",
    "Because a Python script file is simply a list of commands that you might otherwise type into a Python cell in a Jupyter notebook or a Python console, we can quite easily create a basic script file and test things out.\n",
    "\n",
    "### Getting started\n",
    "\n",
    "First, we need to create a new text file by clicking on **File** -> **New** -> **Text File** in the JupyterLab menu bar.\n",
    "\n",
    "![Creating a new text file in JupyterLab.](img/new-text-file-400.png)\n",
    "\n",
    "This will create a new tab in your JupyterLab window that should look something like that below, a blank slate.\n",
    "\n",
    "![Our new text file in JupyterLab.](img/new-text-tab-800.png)\n",
    "\n",
    "Start by copying and pasting the text below into your new text file editor panel.\n",
    "\n",
    "```python\n",
    "def celsius_to_fahr(temp_celsius):\n",
    "    return 9/5 * temp_celsius + 32\n",
    "```"
   ]
  },
  {
   "cell_type": "markdown",
   "metadata": {},
   "source": [
    "### Saving a text file as a Python file\n",
    "\n",
    "As it turns out, Python scripts are just regular text files with a certain file extension to identify them as source code for Python.\n",
    "In order for our new text file to be detected as a Python source file in JupyterLab we need to rename it to have a `.py` file extension.\n",
    "You can rename the file by right clicking on the tab titled `untitled.txt` and renaming it as `temp_converter.py`.\n",
    "\n",
    "```{note}\n",
    "Be sure you change the `.txt` file extension to `.py`.\n",
    "```\n",
    "\n",
    "![Renaming a text file in JupyterLab.](img/rename-file-part-1-600.png)\n",
    "\n",
    "![Changing the file name in JupyterLab.](img/rename-file-part-2-300.png)\n",
    "\n",
    "If all goes well, you should now see the Python syntax is highlighted in different colors in the JupyterLab editor panel.\n",
    "\n",
    "```{note}\n",
    "Be sure to save your `temp_converter.py` file after making your changes.\n",
    "```\n",
    "\n",
    "We'll return later to some best practices for writing script files, but for now let's continue with how to use our functions saved in the Python file we just created."
   ]
  },
  {
   "cell_type": "markdown",
   "metadata": {},
   "source": [
    "## Saving and loading functions\n",
    "\n",
    "Functions such as the ones we just created can also be saved in a script file and called from Jupyter notebooks.\n",
    "In fact, quite often it is useful to create a dedicated function library for functions that you use frequently, when doing data analysis, for example.\n",
    "Basically this is done by listing useful functions in a single `.py` file from which you can then import and use them whenever needed.\n",
    "\n",
    "### Saving functions in a script file\n",
    "\n",
    "Basically, we've just seen how to save some functions to a script file.\n",
    "Let's now add the other functions we had been using to our script.\n",
    "Simply copy and paste the text below into your `temp_converter.py` file leaving one blank line between each function.\n",
    "\n",
    "```python\n",
    "def kelvins_to_celsius(temp_kelvins):\n",
    "    return temp_kelvins - 273.15\n",
    "```\n",
    "\n",
    "```python\n",
    "def kelvins_to_fahr(temp_kelvins):\n",
    "    temp_celsius = kelvins_to_celsius(temp_kelvins)\n",
    "    temp_fahr = celsius_to_fahr(temp_celsius)\n",
    "    return temp_fahr\n",
    "```\n",
    "\n",
    "Don't forget to save your changes!"
   ]
  },
  {
   "cell_type": "markdown",
   "metadata": {},
   "source": [
    "## Calling functions from a script file\n",
    "\n",
    "Now that we have saved our temperature conversion functions into a script file we can start using them.\n",
    "\n",
    "### Making sure we're in the right working directory\n",
    "\n",
    "Hopefully you have saved you `temp_converter.py` file in the same location as this Jupyter notebook (`functions.ipynb`).\n",
    "If so, that's good, but we need to do one more thing to be able to start working with it.\n",
    "We need to change the working directory in JupyterLab to be the one where the `temp_converter.py` exists.\n",
    "\n",
    "First, we can check where we are working currently using an IPython magic command called `%ls`."
   ]
  },
  {
   "cell_type": "code",
   "execution_count": null,
   "metadata": {},
   "outputs": [],
   "source": [
    "%ls"
   ]
  },
  {
   "cell_type": "markdown",
   "metadata": {},
   "source": [
    "Your output from `%ls` probably looks different than that above, but don't worry.\n",
    "`%ls` allows us to see the files located in the directory where we are currently working.\n",
    "\n",
    "#### Binder users\n",
    "\n",
    "If you are using Binder, you may see\n",
    "\n",
    "```bash\n",
    "functions.ipynb  img/  modules.ipynb  temp_converter.py  writing-scripts.ipynb\n",
    "```\n",
    "\n",
    "for example. If this is the case, you are all set to continue!\n",
    "\n",
    "If you see something else, such as \n",
    "\n",
    "```bash\n",
    "L1/  L2/  L3/  L4/  README.md  requirements.txt\n",
    "```\n",
    "\n",
    "you will need to change directories.\n",
    "To do this you should type the following to change into the directory containing the `temp_converter.py` file.\n",
    "\n",
    "```ipython\n",
    "%cd L4/\n",
    "```\n",
    "\n",
    "#### CSC notebooks users\n",
    "\n",
    "Those using the CSC notebooks might see something like\n",
    "\n",
    "```bash\n",
    "exercises/  installations.sh*  notebooks/\n",
    "```\n",
    "\n",
    "In this case you will need to change directories to the one containing the `temp_converter.py` file.\n",
    "You can do this by typing \n",
    "\n",
    "```ipython\n",
    "%cd notebooks/L4/\n",
    "```"
   ]
  },
  {
   "cell_type": "markdown",
   "metadata": {},
   "source": [
    "### Confirming we are in the correct directory\n",
    "\n",
    "If all has gone well you should now see `temp_converter.py` among the files when you type `%ls` in a Python cell.\n",
    "Try that out below."
   ]
  },
  {
   "cell_type": "code",
   "execution_count": null,
   "metadata": {},
   "outputs": [],
   "source": [
    "%ls"
   ]
  },
  {
   "cell_type": "markdown",
   "metadata": {},
   "source": [
    "If you see `temp_converter.py` in the list of files above you are all set to continue."
   ]
  },
  {
   "cell_type": "markdown",
   "metadata": {},
   "source": [
    "### Importing our script functions\n",
    "\n",
    "Let's now import our `celsius_to_fahr()` function from the other script by adding a specific `import` statement in the Python cell below: `from temp_converter import celsius_to_fahr`"
   ]
  },
  {
   "cell_type": "code",
   "execution_count": null,
   "metadata": {},
   "outputs": [],
   "source": [
    "# DO NOT RUN THIS CELL\n",
    "# This cell is only needed for generating the course web page\n",
    "%cd ../../_static/L4/"
   ]
  },
  {
   "cell_type": "code",
   "execution_count": null,
   "metadata": {
    "tags": [
     "raises-exception"
    ]
   },
   "outputs": [],
   "source": [
    "from temp_converter import celsius_to_fahr"
   ]
  },
  {
   "cell_type": "markdown",
   "metadata": {},
   "source": [
    "### Using our script functions\n",
    "\n",
    "Let's also use the function so that we can see that it is working. We can print the temperature in Fahrenheit at which water freezes using our `celsius_to_fahr()` function in the cell below."
   ]
  },
  {
   "cell_type": "code",
   "execution_count": null,
   "metadata": {},
   "outputs": [],
   "source": [
    "print(\"The freezing point of water in Fahrenheit is:\", celsius_to_fahr(0))"
   ]
  },
  {
   "cell_type": "markdown",
   "metadata": {},
   "source": [
    "You should get following output:\n",
    "\n",
    "```\n",
    "The freezing point of water in Fahrenheit is: 32.0\n",
    "```\n",
    "\n",
    "#### Importing multiple functions\n",
    "\n",
    "It is also possible to import more functions at the same time by listing and separating them with a comma.\n",
    "\n",
    "```python\n",
    "from my_script import func1, func2, func3\n",
    "```\n",
    "\n",
    "### Importing all functions from a script\n",
    "\n",
    "Sometimes it is useful to import the whole script and all of its functions at once. Let's use a different `import` statement and test that all functions work. This time we can type `import temp_converter as tc`."
   ]
  },
  {
   "cell_type": "code",
   "execution_count": null,
   "metadata": {
    "tags": [
     "raises-exception"
    ]
   },
   "outputs": [],
   "source": [
    "import temp_converter as tc"
   ]
  },
  {
   "cell_type": "markdown",
   "metadata": {},
   "source": [
    "Just like the examples we have seen earlier with the `math` library, such as using `math.sin()`, we can now use our functions such as `tc.celsius_to_fahr()`. In the cells below, test our functions as they were used above by printing the freezing point of water in Fahrenheit, absolute zero in Celsius, and absolute zero in Fahrenheit."
   ]
  },
  {
   "cell_type": "code",
   "execution_count": null,
   "metadata": {
    "tags": [
     "raises-exception"
    ]
   },
   "outputs": [],
   "source": [
    "print(\"The freezing point of water in Fahrenheit is:\", tc.celsius_to_fahr(0))"
   ]
  },
  {
   "cell_type": "code",
   "execution_count": null,
   "metadata": {
    "tags": [
     "raises-exception"
    ]
   },
   "outputs": [],
   "source": [
    "print('Absolute zero in Celsius is:', tc.kelvins_to_celsius(temp_kelvins=0))"
   ]
  },
  {
   "cell_type": "code",
   "execution_count": null,
   "metadata": {
    "tags": [
     "raises-exception"
    ]
   },
   "outputs": [],
   "source": [
    "print('Absolute zero in Fahrenheit is:', tc.kelvins_to_fahr(temp_kelvins=0))"
   ]
  },
  {
   "cell_type": "markdown",
   "metadata": {},
   "source": [
    "## Temperature calculator (*optional, advanced topic*)\n",
    "\n",
    "So far our functions have had only one parameter, but it is also possible to define a function with multiple parameters.\n",
    "Let's now make a simple `temp_calculator` function that accepts temperatures in Kelvins and returns either Celsius or Fahrenheit.\n",
    "The new function will have two parameters:\n",
    "\n",
    "- `temp_k` = The parameter for passing temperature in Kelvins\n",
    "- `convert_to` = The parameter that determines whether to output should be in Celsius or in Fahrenheit (using letters `C` or `F` accordingly)\n",
    "\n",
    "### Defining the function\n",
    "\n",
    "Let's start defining our function by giving it a name and setting the parameters.\n",
    "\n",
    "```python\n",
    "def temp_calculator(temp_k, convert_to):\n",
    "```"
   ]
  },
  {
   "cell_type": "markdown",
   "metadata": {},
   "source": [
    "### Adding some conditional statements\n",
    "\n",
    "Next, we need to add conditional statements that check whether the desired output temperature should be in Celsius or Fahrenheit, and then call the corresponding function that was imported from the `temp_converter.py` file.\n",
    "\n",
    "```python\n",
    "def temp_calculator(temp_k, convert_to):\n",
    "    # Check if user wants the temperature in Celsius\n",
    "    if convert_to == \"C\":\n",
    "        # Convert the value to Celsius using the dedicated function for the task that we imported from another script\n",
    "        converted_temp = kelvins_to_celsius(temp_kelvins=temp_k)\n",
    "    elif convert_to == \"F\":\n",
    "        # Convert the value to Fahrenheit using the dedicated function for the task that we imported from another script\n",
    "        converted_temp = kelvins_to_fahr(temp_kelvins=temp_k)\n",
    "```"
   ]
  },
  {
   "cell_type": "markdown",
   "metadata": {},
   "source": [
    "### Returning the result\n",
    "\n",
    "Next, we need to add a return statement so that our function sends back the value that we are interested in.\n",
    "\n",
    "```python\n",
    "def temp_calculator(temp_k, convert_to):\n",
    "    # Check if user wants the temperature in Celsius\n",
    "    if convert_to == \"C\":\n",
    "        # Convert the value to Celsius using the dedicated function for the task that we imported from another script\n",
    "        converted_temp = kelvins_to_celsius(temp_kelvins=temp_k)\n",
    "    elif convert_to == \"F\":\n",
    "        # Convert the value to Fahrenheit using the dedicated function for the task that we imported from another script\n",
    "        converted_temp = kelvins_to_fahr(temp_kelvins=temp_k)\n",
    "    # Return the result\n",
    "    return converted_temp\n",
    "```"
   ]
  },
  {
   "cell_type": "markdown",
   "metadata": {},
   "source": [
    "### Adding a docstring\n",
    "\n",
    "Finally, since we want to be good programmers, we should add a short docstring at the beginning of our function that tells what the function does and how the parameters work.\n",
    "\n",
    "```python\n",
    "def temp_calculator(temp_k, convert_to):\n",
    "    \"\"\"\n",
    "    Function for converting temperature in Kelvins to Celsius or Fahrenheit.\n",
    "\n",
    "    Parameters\n",
    "    ----------\n",
    "    temp_k: <numerical>\n",
    "        Temperature in Kelvins\n",
    "    convert_to: <str>\n",
    "        Target temperature that can be either Celsius ('C') or Fahrenheit ('F'). Supported values: 'C' | 'F'\n",
    "\n",
    "    Returns\n",
    "    -------\n",
    "    <float>\n",
    "        Converted temperature.\n",
    "    \"\"\"\n",
    "\n",
    "    # Check if user wants the temperature in Celsius\n",
    "    if convert_to == \"C\":\n",
    "        # Convert the value to Celsius using the dedicated function for the task that we imported from another script\n",
    "        converted_temp = kelvins_to_celsius(temp_kelvins=temp_k)\n",
    "    elif convert_to == \"F\":\n",
    "        # Convert the value to Fahrenheit using the dedicated function for the task that we imported from another script\n",
    "        converted_temp = kelvins_to_fahr(temp_kelvins=temp_k)\n",
    "    # Return the result\n",
    "    return converted_temp\n",
    "```"
   ]
  },
  {
   "cell_type": "markdown",
   "metadata": {},
   "source": [
    "### Testing the new function\n",
    "\n",
    "That's it!\n",
    "Now we have a temperature calculator that has a simple control for the user where they can change the output using the `convert_to` parameter.\n",
    "Now as we added the short docstring in the beginning of the function we can use the `help()` function in Python to find out how our function should be used.\n",
    "Run the Python cell below and then try running `help(temp_calculator)`.\n",
    "\n",
    "```{attention}\n",
    "Reloading modules from within a Jupyter notebook is a bit of a pain.\n",
    "The easiest option is to restart the IPython kernel by going to **Kernel** -> **Restart kernel...**.\n",
    "Note that this will delete all variables currently stored in memory in the Jupyter notebook you're using, so you may need to re-run some cells.\n",
    "```"
   ]
  },
  {
   "cell_type": "code",
   "execution_count": null,
   "metadata": {
    "tags": [
     "raises-exception"
    ]
   },
   "outputs": [],
   "source": [
    "help(tc.temp_calculator)"
   ]
  },
  {
   "cell_type": "markdown",
   "metadata": {},
   "source": [
    "### Using the tempCalculator\n",
    "\n",
    "Let's use it."
   ]
  },
  {
   "cell_type": "code",
   "execution_count": null,
   "metadata": {},
   "outputs": [],
   "source": [
    "temp_kelvin = 30"
   ]
  },
  {
   "cell_type": "code",
   "execution_count": null,
   "metadata": {
    "tags": [
     "raises-exception"
    ]
   },
   "outputs": [],
   "source": [
    "temperature_c = tc.temp_calculator(temp_k=temp_kelvin, convert_to=\"C\")"
   ]
  },
  {
   "cell_type": "code",
   "execution_count": null,
   "metadata": {
    "tags": [
     "raises-exception"
    ]
   },
   "outputs": [],
   "source": [
    "print(\"Temperature\", temp_kelvin, \"in Kelvins is\", temperature_c, \"in Celsius\")"
   ]
  },
  {
   "cell_type": "markdown",
   "metadata": {},
   "source": [
    "## Footnotes\n",
    "\n",
    "[^swc]: <http://software-carpentry.org>"
   ]
  },
  {
   "cell_type": "markdown",
   "metadata": {},
   "source": [
    "# Good coding practices - Writing our scripts the \"right\" way\n",
    "\n",
    "The script example for functions we have seen so far works, but one of the big advantages of using scripts is including features that make the code easier to read and understand.\n",
    "These include comments in the code, which explain what the code does, but are not executed when the code is run.\n",
    "As your scripts get longer and more complicated, features such as comments will become essential.\n",
    "Below are some suggestions to make sure your code is formatted nicely and easy to understand."
   ]
  },
  {
   "cell_type": "markdown",
   "metadata": {},
   "source": [
    "## Inline comments\n",
    "\n",
    "Inline comments are comments within the code that explain what certain lines of the code do.\n",
    "To you, it may seem obvious how the code works, but if you share it with another person perhaps they will not feel the same way.\n",
    "This is particularly true when you start using scripts instead of Jupyter notebooks, where you might not feel you can include as much text describing your code.\n",
    "Because we want to teach you to code in an effective way, it is a very good idea to make your scripts as easy to read as possible for people.\n",
    "Consider the example below.\n",
    "\n",
    "```python\n",
    "# Finnish Meterological Institute observation station name and location data\n",
    "# Station name for the station in Kaivopuisto, Helsinki, Finland\n",
    "stationName = 'Helsinki Kaivopuisto'\n",
    "# Station latitude and longitude - Latitude is north, longitude is east\n",
    "stationLat = 60.15\n",
    "stationLong = 24.96\n",
    "# Print station name and location to the screen\n",
    "print(\"The\", stationName, \"station is located at\", stationLat, \"N,\", stationLong, \"E\")\n",
    "```\n",
    "\n",
    "Here, we have provided a a bit more information about the data in this script by adding inline comments.\n",
    "Inline comments begin with a `#` (number sign or hash), and all characters that follow on that line will be ignored by Python.\n",
    "Adding comments to scripts is essential for scientists like ourselves to both help us remember how a script works and to make it easier to share with colleagues.\n",
    "It is best to get into the habit of adding comments as you write, especially if you're not using a Jupyter notebook."
   ]
  },
  {
   "cell_type": "markdown",
   "metadata": {},
   "source": [
    "## Use line breaks wisely\n",
    "\n",
    "*Line breaks*, or blank lines, in your scripts can greatly improve readability, and help divide different sections of the script.\n",
    "Perhaps it is obvious, but Python will ignore blank lines in a script.\n",
    "\n",
    "```python\n",
    "# Finnish Meterological Institute observation station name and location data\n",
    "\n",
    "# Station name for the station in Kaivopuisto, Helsinki, Finland\n",
    "stationName = 'Helsinki Kaivopuisto'\n",
    "\n",
    "# Station latitude and longitude - Latitude is north, longitude is east\n",
    "stationLat = 60.15\n",
    "stationLong = 24.96\n",
    "\n",
    "# Print station name and location to the screen\n",
    "print(\"The\", stationName, \"station is located at\", stationLat, \"N,\", stationLong, \"E\")\n",
    "```"
   ]
  },
  {
   "cell_type": "markdown",
   "metadata": {},
   "source": [
    "## Use a docstring\n",
    "\n",
    "\n",
    "A documentation string, or a *docstring* a block of text that describes what a spesific method or module does and how to use it. Surprise surprise, PEP 8 contains more guidance about [documentation strings](https://www.python.org/dev/peps/pep-0008/#documentation-strings), and docstrings even have their own guide page: [PEP 257](https://www.python.org/dev/peps/pep-0257/).\n",
    "\n",
    "A docstring is always the first statement in a module or a function. Docstrings are written using `\"\"\"triple double quotation marks\"\"\"`. We already discussed docstrings when defining functions earlier in lesson 4, and here is an example of using a **multi-line docstring** at the start of a script file.\n",
    "\n",
    "When adding docstrings at the start of a script file, you can also include your name, and also licensing information.\n",
    "\n",
    "\n",
    "\n",
    "```python\n",
    "\"\"\"Prints information about an FMI observation station to the screen.\n",
    "\n",
    "Usage:\n",
    "    ./stationinfo.py\n",
    "\n",
    "Author:\n",
    "    David Whipp - 26.9.2018\n",
    "\"\"\"\n",
    "\n",
    "# Finnish Meterological Institute observation station name and location data\n",
    "\n",
    "# Station name for the station in Kaivopuisto, Helsinki, Finland\n",
    "stationName = 'Helsinki Kaivopuisto'\n",
    "\n",
    "# Station latitude and longitude - Latitude is north, longitude is east\n",
    "stationLat = 60.15\n",
    "stationLong = 24.96\n",
    "\n",
    "# Print station name and location to the screen\n",
    "print(\"The\", stationName, \"station is located at\", stationLat, \"N,\", stationLong, \"E\")\n",
    "```\n",
    "\n",
    "In this example the script is simple, but many Python programs have optional values that can be used by the code when it is run, making the **usage** statement crucial.\n",
    "\n",
    "Note that the closing quotes are on a line by themselves. It is also possible to write [one-line docstrings](https://www.python.org/dev/peps/pep-0257/#one-line-docstrings), for example with very simple functions, in which case the starting and closing quotation marks are on the same line."
   ]
  },
  {
   "cell_type": "markdown",
   "metadata": {},
   "source": [
    "## Advanced topics\n",
    "\n",
    "### Adding a license\n",
    "\n",
    "Depending on what you aim to do with your script, you may want to include a formal software license in the docstring to state the conditions under which the code can be used or modified.\n",
    "There are many helpful web resources to [teach you about software licenses](https://tldrlegal.com/) and [how to choose a license](http://choosealicense.com/).\n",
    "In most cases my preference is the [MIT License](https://opensource.org/licenses/MIT), which is simple and allows software use by anyone. An example is below.\n",
    "\n",
    "```python\n",
    "\"\"\"Prints information about an FMI observation station to the screen.\n",
    "\n",
    "Usage:\n",
    "    ./stationinfo.py\n",
    "\n",
    "License:\n",
    "    MIT License\n",
    "\n",
    "    Copyright (c) 2017 David Whipp\n",
    "\n",
    "    Permission is hereby granted, free of charge, to any person obtaining a copy\n",
    "    of this software and associated documentation files (the \"Software\"), to deal\n",
    "    in the Software without restriction, including without limitation the rights\n",
    "    to use, copy, modify, merge, publish, distribute, sublicense, and/or sell\n",
    "    copies of the Software, and to permit persons to whom the Software is\n",
    "    furnished to do so, subject to the following conditions:\n",
    "\n",
    "    The above copyright notice and this permission notice shall be included in all\n",
    "    copies or substantial portions of the Software.\n",
    "\n",
    "    THE SOFTWARE IS PROVIDED \"AS IS\", WITHOUT WARRANTY OF ANY KIND, EXPRESS OR\n",
    "    IMPLIED, INCLUDING BUT NOT LIMITED TO THE WARRANTIES OF MERCHANTABILITY,\n",
    "    FITNESS FOR A PARTICULAR PURPOSE AND NONINFRINGEMENT. IN NO EVENT SHALL THE\n",
    "    AUTHORS OR COPYRIGHT HOLDERS BE LIABLE FOR ANY CLAIM, DAMAGES OR OTHER\n",
    "    LIABILITY, WHETHER IN AN ACTION OF CONTRACT, TORT OR OTHERWISE, ARISING FROM,\n",
    "    OUT OF OR IN CONNECTION WITH THE SOFTWARE OR THE USE OR OTHER DEALINGS IN THE\n",
    "    SOFTWARE.\n",
    "\"\"\"\n",
    "\n",
    "# Finnish Meterological Institute observation station name and location data\n",
    "\n",
    "# Station name for the station in Kaivopuisto, Helsinki, Finland\n",
    "stationName = 'Helsinki Kaivopuisto'\n",
    "\n",
    "# Station latitude and longitude - Latitude is north, longitude is east\n",
    "stationLat = 60.15\n",
    "stationLong = 24.96\n",
    "\n",
    "# Print station name and location to the screen\n",
    "print(\"The\", stationName, \"station is located at\", stationLat, \"N,\", stationLong, \"E\")\n",
    "```\n",
    "\n",
    "In this case I have taken the license information directly from an [online software license template](http://choosealicense.com/licenses/mit/).\n",
    "Software licensing is an important consideration when posting your software in online repositories such as GitHub.\n",
    "It is one way to protect your intellectual property from being used in ways you do not wish."
   ]
  },
  {
   "cell_type": "markdown",
   "metadata": {},
   "source": [
    "### Starting with a shebang\n",
    "\n",
    "Starting with a shebang is another thing to consider doing with your scripts.\n",
    "Why?\n",
    "Well, without going into too much detail, it makes it easier for users to run your script directly from a terminal, rather than needing to use a Jupyter notebook or open an Python console first.\n",
    "If this doesn’t make a great deal of sense, you can get a bit more information on [Wikipedia](https://en.wikipedia.org/wiki/Shebang_(Unix)).\n",
    "\n",
    "Starting with a shebang means that the first line of your program starts with the characters `#!` followed by the location of a program that will run the Python software installed on the computer.\n",
    "An example is below.\n",
    "\n",
    "```python\n",
    "#!/usr/bin/env python3\n",
    "'''Prints information about an FMI observation station to the screen.\n",
    "\n",
    "Usage:\n",
    "    ./stationinfo.py\n",
    "\n",
    "Author:\n",
    "    David Whipp - 10.9.2017\n",
    "'''\n",
    "\n",
    "# Finnish Meterological Institute observation station name and location data\n",
    "\n",
    "# Station name for the station in Kaivopuisto, Helsinki, Finland\n",
    "stationName = 'Helsinki Kaivopuisto'\n",
    "\n",
    "# Station latitude and longitude - Latitude is north, longitude is east\n",
    "stationLat = 60.15\n",
    "stationLong = 24.96\n",
    "\n",
    "# Print station name and location to the screen\n",
    "print(\"The\", stationName, \"station is located at\", stationLat, \"N,\", stationLong, \"E\")\n",
    "```\n",
    "\n",
    "We’ll leave it at that for now, but if you have questions let us know."
   ]
  },
  {
   "cell_type": "markdown",
   "metadata": {},
   "source": [
    "## Page summary\n",
    "\n",
    "As we continue in the course we will be creating more advanced Python scripts that include more complex code logic and other features we’ve not yet learned.\n",
    "With these, we'll also learn a few tips for incorporating them in our scripts.\n",
    "However, an expectation in this course is that you stick to the general template described above when writing your script files, which means including appropriate use of inline comments, blank lines, and a docstring."
   ]
  }
 ],
 "metadata": {
  "kernelspec": {
   "display_name": "Python 3",
   "language": "python",
   "name": "python3"
  },
  "language_info": {
   "codemirror_mode": {
    "name": "ipython",
    "version": 3
   },
   "file_extension": ".py",
   "mimetype": "text/x-python",
   "name": "python",
   "nbconvert_exporter": "python",
   "pygments_lexer": "ipython3",
   "version": "3.7.4"
  }
 },
 "nbformat": 4,
 "nbformat_minor": 4
}
